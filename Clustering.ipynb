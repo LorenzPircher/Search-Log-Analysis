{
 "cells": [
  {
   "cell_type": "markdown",
   "metadata": {},
   "source": [
    "**Standard Libraries**"
   ]
  },
  {
   "cell_type": "code",
   "execution_count": 2,
   "metadata": {},
   "outputs": [],
   "source": [
    "import pandas as pd\n",
    "import os\n",
    "import numpy as np"
   ]
  },
  {
   "cell_type": "markdown",
   "metadata": {},
   "source": [
    "**Read the One Hot Encoded CSV files**"
   ]
  },
  {
   "cell_type": "code",
   "execution_count": 7,
   "metadata": {},
   "outputs": [],
   "source": [
    "import warnings\n",
    "warnings.filterwarnings('ignore')\n",
    "\n",
    "j = pd.read_csv('onehot_judicature.csv', index_col=[0])\n",
    "b = pd.read_csv('onehot_federal.csv', index_col=[0])\n",
    "l = pd.read_csv('onehot_state.csv', index_col=[0])"
   ]
  },
  {
   "cell_type": "markdown",
   "metadata": {},
   "source": [
    "**Delete \"not_used\" Variables and rename the remaining Variables**"
   ]
  },
  {
   "cell_type": "code",
   "execution_count": 8,
   "metadata": {},
   "outputs": [],
   "source": [
    "j = j[['Dokumenttyp_used','GZ_canonical_used','RechtssatznummerForZitat_used',\n",
    "       'Rechtssatznummer_used','GZForZitat_used','Datum__From_used',\n",
    "       'Datum__To_used','Veroeffentlichungsdatum_From_used',\n",
    "       'Veroeffentlichungsdatum_To_used','Gericht_used','Norm_used',\n",
    "       'Fundstelle_used','Search_Term_used']]\n",
    "j.columns = ['Dokumenttyp','GZ_canonical','RechtssatznummerForZitat',\n",
    "             'Rechtssatznummer','GZForZitat','Datum__From','Datum__To',\n",
    "             'Veroeffentlichungsdatum_From','Veroeffentlichungsdatum_To',\n",
    "             'Gericht','Norm','Fundstelle','Search_Term']\n",
    "\n",
    "b = b[['Artikelnummer_From_used','Artikelnummer_To_used','Artikelbuchstabe_used',\n",
    "       'Paragraphnummer_From_used','Paragraphnummer_To_used',\n",
    "       'Paragraphbuchstabe_used','Titel_used','Gesetzesnummer_used',\n",
    "       'StammnormPublikationsorgan_used','StammnormBgblnummer_used',\n",
    "       'Inkrafttretedatum_From_used','Inkrafttretedatum_To_used',\n",
    "       'Ausserkrafttretedatum_From_used','Ausserkrafttretedatum_To_used',\n",
    "       'NovellenBgblnummer_used','Search_Term_used']]\n",
    "b.columns = ['Artikelnummer_From','Artikelnummer_To','Artikelbuchstabe',\n",
    "             'Paragraphnummer_From','Paragraphnummer_To','Paragraphbuchstabe',\n",
    "             'Titel','Gesetzesnummer','StammnormPublikationsorgan',\n",
    "             'StammnormBgblnummer','Inkrafttretedatum_From',\n",
    "             'Inkrafttretedatum_To','Ausserkrafttretedatum_From',\n",
    "             'Ausserkrafttretedatum_To','NovellenBgblnummer','Search_Term']\n",
    "\n",
    "l = l[['Bundesland_used','Diskriminator_used','Landesnormen_Applikation_used',\n",
    "       'Paragraphnummer_From_used','Paragraphnummer_To_used','Titel_used',\n",
    "       'Gesetzesnummer_used','StammnormPublikationsorgan_used',\n",
    "       'StammnormBgblnummer_used','Inkrafttretedatum_From_used',\n",
    "       'Inkrafttretedatum_To_used','Ausserkrafttretedatum_From_used',\n",
    "       'Ausserkrafttretedatum_To_used','Search_Term_used']]\n",
    "l.columns = ['Bundesland','Diskriminator','Landesnormen_Applikation',\n",
    "             'Paragraphnummer_From','Paragraphnummer_To','Titel',\n",
    "             'Gesetzesnummer','StammnormPublikationsorgan','StammnormBgblnummer',\n",
    "             'Inkrafttretedatum_From','Inkrafttretedatum_To',\n",
    "             'Ausserkrafttretedatum_From','Ausserkrafttretedatum_To',\n",
    "             'Search_Term']"
   ]
  },
  {
   "cell_type": "markdown",
   "metadata": {},
   "source": [
    "**K-Modes**"
   ]
  },
  {
   "cell_type": "markdown",
   "metadata": {},
   "source": [
    "The data will be run through k-modes algorithm that uses modes of categorical attributes instead of the means in k-means for clustering of categorical data."
   ]
  },
  {
   "cell_type": "code",
   "execution_count": 25,
   "metadata": {},
   "outputs": [
    {
     "name": "stdout",
     "output_type": "stream",
     "text": [
      "Init: initializing centroids\n",
      "Init: initializing clusters\n",
      "Starting iterations...\n",
      "Run 1, iteration: 1/100, moves: 19784, cost: 83343.0\n",
      "Run 1, iteration: 2/100, moves: 0, cost: 83343.0\n"
     ]
    }
   ],
   "source": [
    "from kmodes.kmodes import KModes\n",
    "\n",
    "data = l #state norms\n",
    "\n",
    "km = KModes(n_clusters=3, init='Huang', verbose=1)\n",
    "\n",
    "clusters = km.fit_predict(data)\n",
    "\n",
    "labels = km.labels_\n",
    "# Format results as a DataFrame\n",
    "l_modes_r = pd.DataFrame([l.index,labels]).T\n",
    "\n",
    "l_modes = l\n",
    "l_modes_r.columns = ['Index', 'Cluster']\n",
    "l_modes_r = l_modes_r['Cluster']\n",
    "l_modes['Cluster'] = l_modes_r"
   ]
  },
  {
   "cell_type": "code",
   "execution_count": 26,
   "metadata": {},
   "outputs": [
    {
     "data": {
      "text/html": [
       "<div>\n",
       "<style scoped>\n",
       "    .dataframe tbody tr th:only-of-type {\n",
       "        vertical-align: middle;\n",
       "    }\n",
       "\n",
       "    .dataframe tbody tr th {\n",
       "        vertical-align: top;\n",
       "    }\n",
       "\n",
       "    .dataframe thead th {\n",
       "        text-align: right;\n",
       "    }\n",
       "</style>\n",
       "<table border=\"1\" class=\"dataframe\">\n",
       "  <thead>\n",
       "    <tr style=\"text-align: right;\">\n",
       "      <th></th>\n",
       "      <th>Bundesland</th>\n",
       "      <th>Diskriminator</th>\n",
       "      <th>Landesnormen_Applikation</th>\n",
       "      <th>Paragraphnummer_From</th>\n",
       "      <th>Paragraphnummer_To</th>\n",
       "      <th>Titel</th>\n",
       "      <th>Gesetzesnummer</th>\n",
       "      <th>StammnormPublikationsorgan</th>\n",
       "      <th>StammnormBgblnummer</th>\n",
       "      <th>Inkrafttretedatum_From</th>\n",
       "      <th>Inkrafttretedatum_To</th>\n",
       "      <th>Ausserkrafttretedatum_From</th>\n",
       "      <th>Ausserkrafttretedatum_To</th>\n",
       "      <th>Search_Term</th>\n",
       "      <th>Cluster</th>\n",
       "    </tr>\n",
       "  </thead>\n",
       "  <tbody>\n",
       "    <tr>\n",
       "      <th>0</th>\n",
       "      <td>0</td>\n",
       "      <td>1</td>\n",
       "      <td>0</td>\n",
       "      <td>0</td>\n",
       "      <td>0</td>\n",
       "      <td>0</td>\n",
       "      <td>1</td>\n",
       "      <td>0</td>\n",
       "      <td>0</td>\n",
       "      <td>0</td>\n",
       "      <td>0</td>\n",
       "      <td>0</td>\n",
       "      <td>0</td>\n",
       "      <td>0</td>\n",
       "      <td>0</td>\n",
       "    </tr>\n",
       "    <tr>\n",
       "      <th>1</th>\n",
       "      <td>0</td>\n",
       "      <td>1</td>\n",
       "      <td>0</td>\n",
       "      <td>0</td>\n",
       "      <td>0</td>\n",
       "      <td>0</td>\n",
       "      <td>1</td>\n",
       "      <td>0</td>\n",
       "      <td>0</td>\n",
       "      <td>0</td>\n",
       "      <td>0</td>\n",
       "      <td>0</td>\n",
       "      <td>0</td>\n",
       "      <td>0</td>\n",
       "      <td>0</td>\n",
       "    </tr>\n",
       "    <tr>\n",
       "      <th>2</th>\n",
       "      <td>0</td>\n",
       "      <td>1</td>\n",
       "      <td>0</td>\n",
       "      <td>0</td>\n",
       "      <td>0</td>\n",
       "      <td>0</td>\n",
       "      <td>1</td>\n",
       "      <td>0</td>\n",
       "      <td>0</td>\n",
       "      <td>0</td>\n",
       "      <td>0</td>\n",
       "      <td>0</td>\n",
       "      <td>0</td>\n",
       "      <td>0</td>\n",
       "      <td>0</td>\n",
       "    </tr>\n",
       "    <tr>\n",
       "      <th>3</th>\n",
       "      <td>0</td>\n",
       "      <td>1</td>\n",
       "      <td>0</td>\n",
       "      <td>0</td>\n",
       "      <td>0</td>\n",
       "      <td>0</td>\n",
       "      <td>1</td>\n",
       "      <td>0</td>\n",
       "      <td>0</td>\n",
       "      <td>0</td>\n",
       "      <td>0</td>\n",
       "      <td>0</td>\n",
       "      <td>0</td>\n",
       "      <td>0</td>\n",
       "      <td>0</td>\n",
       "    </tr>\n",
       "    <tr>\n",
       "      <th>4</th>\n",
       "      <td>1</td>\n",
       "      <td>0</td>\n",
       "      <td>0</td>\n",
       "      <td>0</td>\n",
       "      <td>1</td>\n",
       "      <td>0</td>\n",
       "      <td>1</td>\n",
       "      <td>0</td>\n",
       "      <td>0</td>\n",
       "      <td>0</td>\n",
       "      <td>0</td>\n",
       "      <td>0</td>\n",
       "      <td>0</td>\n",
       "      <td>0</td>\n",
       "      <td>1</td>\n",
       "    </tr>\n",
       "  </tbody>\n",
       "</table>\n",
       "</div>"
      ],
      "text/plain": [
       "   Bundesland  Diskriminator  Landesnormen_Applikation  Paragraphnummer_From  \\\n",
       "0           0              1                         0                     0   \n",
       "1           0              1                         0                     0   \n",
       "2           0              1                         0                     0   \n",
       "3           0              1                         0                     0   \n",
       "4           1              0                         0                     0   \n",
       "\n",
       "   Paragraphnummer_To  Titel  Gesetzesnummer  StammnormPublikationsorgan  \\\n",
       "0                   0      0               1                           0   \n",
       "1                   0      0               1                           0   \n",
       "2                   0      0               1                           0   \n",
       "3                   0      0               1                           0   \n",
       "4                   1      0               1                           0   \n",
       "\n",
       "   StammnormBgblnummer  Inkrafttretedatum_From  Inkrafttretedatum_To  \\\n",
       "0                    0                       0                     0   \n",
       "1                    0                       0                     0   \n",
       "2                    0                       0                     0   \n",
       "3                    0                       0                     0   \n",
       "4                    0                       0                     0   \n",
       "\n",
       "   Ausserkrafttretedatum_From  Ausserkrafttretedatum_To  Search_Term  Cluster  \n",
       "0                           0                         0            0        0  \n",
       "1                           0                         0            0        0  \n",
       "2                           0                         0            0        0  \n",
       "3                           0                         0            0        0  \n",
       "4                           0                         0            0        1  "
      ]
     },
     "execution_count": 26,
     "metadata": {},
     "output_type": "execute_result"
    }
   ],
   "source": [
    "l_modes.head()"
   ]
  },
  {
   "cell_type": "code",
   "execution_count": 27,
   "metadata": {},
   "outputs": [
    {
     "name": "stdout",
     "output_type": "stream",
     "text": [
      "Init: initializing centroids\n",
      "Init: initializing clusters\n",
      "Starting iterations...\n",
      "Run 1, iteration: 1/100, moves: 108065, cost: 529385.0\n",
      "Run 1, iteration: 2/100, moves: 0, cost: 529385.0\n"
     ]
    }
   ],
   "source": [
    "data = b #federal norms\n",
    "\n",
    "km = KModes(n_clusters=3, init='Huang', verbose=1)\n",
    "\n",
    "clusters = km.fit_predict(data)\n",
    "\n",
    "labels = km.labels_\n",
    "# Format results as a DataFrame\n",
    "b_modes_r = pd.DataFrame([b.index,labels]).T\n",
    "\n",
    "b_modes = b\n",
    "b_modes_r.columns = ['Index', 'Cluster']\n",
    "b_modes_r = b_modes_r['Cluster']\n",
    "b_modes['Cluster'] = b_modes_r"
   ]
  },
  {
   "cell_type": "code",
   "execution_count": 28,
   "metadata": {},
   "outputs": [
    {
     "data": {
      "text/html": [
       "<div>\n",
       "<style scoped>\n",
       "    .dataframe tbody tr th:only-of-type {\n",
       "        vertical-align: middle;\n",
       "    }\n",
       "\n",
       "    .dataframe tbody tr th {\n",
       "        vertical-align: top;\n",
       "    }\n",
       "\n",
       "    .dataframe thead th {\n",
       "        text-align: right;\n",
       "    }\n",
       "</style>\n",
       "<table border=\"1\" class=\"dataframe\">\n",
       "  <thead>\n",
       "    <tr style=\"text-align: right;\">\n",
       "      <th></th>\n",
       "      <th>Artikelnummer_From</th>\n",
       "      <th>Artikelnummer_To</th>\n",
       "      <th>Artikelbuchstabe</th>\n",
       "      <th>Paragraphnummer_From</th>\n",
       "      <th>Paragraphnummer_To</th>\n",
       "      <th>Paragraphbuchstabe</th>\n",
       "      <th>Titel</th>\n",
       "      <th>Gesetzesnummer</th>\n",
       "      <th>StammnormPublikationsorgan</th>\n",
       "      <th>StammnormBgblnummer</th>\n",
       "      <th>Inkrafttretedatum_From</th>\n",
       "      <th>Inkrafttretedatum_To</th>\n",
       "      <th>Ausserkrafttretedatum_From</th>\n",
       "      <th>Ausserkrafttretedatum_To</th>\n",
       "      <th>NovellenBgblnummer</th>\n",
       "      <th>Search_Term</th>\n",
       "      <th>Cluster</th>\n",
       "    </tr>\n",
       "  </thead>\n",
       "  <tbody>\n",
       "    <tr>\n",
       "      <th>0</th>\n",
       "      <td>0</td>\n",
       "      <td>0</td>\n",
       "      <td>0</td>\n",
       "      <td>1</td>\n",
       "      <td>1</td>\n",
       "      <td>1</td>\n",
       "      <td>1</td>\n",
       "      <td>0</td>\n",
       "      <td>0</td>\n",
       "      <td>1</td>\n",
       "      <td>0</td>\n",
       "      <td>1</td>\n",
       "      <td>1</td>\n",
       "      <td>1</td>\n",
       "      <td>1</td>\n",
       "      <td>0</td>\n",
       "      <td>2</td>\n",
       "    </tr>\n",
       "    <tr>\n",
       "      <th>1</th>\n",
       "      <td>0</td>\n",
       "      <td>0</td>\n",
       "      <td>0</td>\n",
       "      <td>0</td>\n",
       "      <td>0</td>\n",
       "      <td>0</td>\n",
       "      <td>0</td>\n",
       "      <td>0</td>\n",
       "      <td>1</td>\n",
       "      <td>1</td>\n",
       "      <td>0</td>\n",
       "      <td>0</td>\n",
       "      <td>0</td>\n",
       "      <td>0</td>\n",
       "      <td>0</td>\n",
       "      <td>0</td>\n",
       "      <td>1</td>\n",
       "    </tr>\n",
       "    <tr>\n",
       "      <th>2</th>\n",
       "      <td>0</td>\n",
       "      <td>0</td>\n",
       "      <td>0</td>\n",
       "      <td>1</td>\n",
       "      <td>1</td>\n",
       "      <td>0</td>\n",
       "      <td>1</td>\n",
       "      <td>0</td>\n",
       "      <td>0</td>\n",
       "      <td>0</td>\n",
       "      <td>0</td>\n",
       "      <td>1</td>\n",
       "      <td>1</td>\n",
       "      <td>1</td>\n",
       "      <td>0</td>\n",
       "      <td>0</td>\n",
       "      <td>2</td>\n",
       "    </tr>\n",
       "    <tr>\n",
       "      <th>3</th>\n",
       "      <td>0</td>\n",
       "      <td>0</td>\n",
       "      <td>0</td>\n",
       "      <td>0</td>\n",
       "      <td>0</td>\n",
       "      <td>0</td>\n",
       "      <td>0</td>\n",
       "      <td>1</td>\n",
       "      <td>0</td>\n",
       "      <td>0</td>\n",
       "      <td>0</td>\n",
       "      <td>0</td>\n",
       "      <td>0</td>\n",
       "      <td>0</td>\n",
       "      <td>0</td>\n",
       "      <td>0</td>\n",
       "      <td>1</td>\n",
       "    </tr>\n",
       "    <tr>\n",
       "      <th>4</th>\n",
       "      <td>0</td>\n",
       "      <td>0</td>\n",
       "      <td>0</td>\n",
       "      <td>0</td>\n",
       "      <td>1</td>\n",
       "      <td>0</td>\n",
       "      <td>0</td>\n",
       "      <td>1</td>\n",
       "      <td>0</td>\n",
       "      <td>0</td>\n",
       "      <td>0</td>\n",
       "      <td>0</td>\n",
       "      <td>0</td>\n",
       "      <td>0</td>\n",
       "      <td>0</td>\n",
       "      <td>0</td>\n",
       "      <td>0</td>\n",
       "    </tr>\n",
       "  </tbody>\n",
       "</table>\n",
       "</div>"
      ],
      "text/plain": [
       "   Artikelnummer_From  Artikelnummer_To  Artikelbuchstabe  \\\n",
       "0                   0                 0                 0   \n",
       "1                   0                 0                 0   \n",
       "2                   0                 0                 0   \n",
       "3                   0                 0                 0   \n",
       "4                   0                 0                 0   \n",
       "\n",
       "   Paragraphnummer_From  Paragraphnummer_To  Paragraphbuchstabe  Titel  \\\n",
       "0                     1                   1                   1      1   \n",
       "1                     0                   0                   0      0   \n",
       "2                     1                   1                   0      1   \n",
       "3                     0                   0                   0      0   \n",
       "4                     0                   1                   0      0   \n",
       "\n",
       "   Gesetzesnummer  StammnormPublikationsorgan  StammnormBgblnummer  \\\n",
       "0               0                           0                    1   \n",
       "1               0                           1                    1   \n",
       "2               0                           0                    0   \n",
       "3               1                           0                    0   \n",
       "4               1                           0                    0   \n",
       "\n",
       "   Inkrafttretedatum_From  Inkrafttretedatum_To  Ausserkrafttretedatum_From  \\\n",
       "0                       0                     1                           1   \n",
       "1                       0                     0                           0   \n",
       "2                       0                     1                           1   \n",
       "3                       0                     0                           0   \n",
       "4                       0                     0                           0   \n",
       "\n",
       "   Ausserkrafttretedatum_To  NovellenBgblnummer  Search_Term  Cluster  \n",
       "0                         1                   1            0        2  \n",
       "1                         0                   0            0        1  \n",
       "2                         1                   0            0        2  \n",
       "3                         0                   0            0        1  \n",
       "4                         0                   0            0        0  "
      ]
     },
     "execution_count": 28,
     "metadata": {},
     "output_type": "execute_result"
    }
   ],
   "source": [
    "b_modes.head()"
   ]
  },
  {
   "cell_type": "code",
   "execution_count": 1,
   "metadata": {},
   "outputs": [],
   "source": [
    "#Needs to much time! >3h\n",
    "#data = j #judiciary\n",
    "\n",
    "#km = KModes(n_clusters=3, init='Huang', verbose=1)\n",
    "\n",
    "#clusters = km.fit_predict(data)\n",
    "\n",
    "#labels = km.labels_\n",
    "# Format results as a DataFrame\n",
    "#j_modes_r = pd.DataFrame([j.index,labels]).T\n",
    "\n",
    "#j_modes = j\n",
    "#j_modes_r.columns = ['Index', 'Cluster']\n",
    "#j_modes_r = j_modes_r['Cluster']\n",
    "#j_modes['Cluster'] = j_modes_r\n",
    "#j_modes.head()"
   ]
  },
  {
   "cell_type": "code",
   "execution_count": 29,
   "metadata": {},
   "outputs": [],
   "source": [
    "b_modes.to_csv('b_clust_mod.csv')\n",
    "l_modes.to_csv('l_clust_mod.csv')\n",
    "#j_modes.to_csv('j_clust_mod.csv')"
   ]
  },
  {
   "cell_type": "code",
   "execution_count": 10,
   "metadata": {},
   "outputs": [],
   "source": [
    "import warnings\n",
    "warnings.filterwarnings('ignore')\n",
    "\n",
    "compare = pd.read_csv('l_clust_mod.csv', index_col=[0])\n",
    "compare_b = pd.read_csv('b_clust_mod.csv', index_col=[0])\n",
    "import seaborn as sns"
   ]
  },
  {
   "cell_type": "code",
   "execution_count": 12,
   "metadata": {},
   "outputs": [
    {
     "data": {
      "image/png": "[encoded data removed]",
      "text/plain": [
       "<Figure size 720x432 with 1 Axes>"
      ]
     },
     "metadata": {
      "needs_background": "light"
     },
     "output_type": "display_data"
    }
   ],
   "source": [
    "#State Norms\n",
    "import matplotlib.pyplot as plt\n",
    "new = pd.DataFrame()\n",
    "new['Search Logs'] = compare.groupby(compare['Cluster']).size()\n",
    "new['Cluster'] = compare.groupby(compare['Cluster']).size().index\n",
    "plt.figure(figsize=(10,6))\n",
    "sns.barplot(\"Cluster\", \"Search Logs\", data=new, \n",
    "            palette=\"Blues_d\").set_title(\n",
    "            \"Search Log Distribution per Cluster - State Norms\")\n",
    "plt.savefig(\"cluster_state_modes.png\")"
   ]
  },
  {
   "cell_type": "code",
   "execution_count": 13,
   "metadata": {},
   "outputs": [
    {
     "data": {
      "image/png": "[encoded data removed]",
      "text/plain": [
       "<Figure size 720x432 with 1 Axes>"
      ]
     },
     "metadata": {
      "needs_background": "light"
     },
     "output_type": "display_data"
    }
   ],
   "source": [
    "#Federal Norms\n",
    "new_b = pd.DataFrame()\n",
    "new_b['Search Logs'] = compare_b.groupby(compare_b['Cluster']).size()\n",
    "new_b['Cluster'] = compare_b.groupby(compare_b['Cluster']).size().index\n",
    "plt.figure(figsize=(10,6))\n",
    "sns.barplot(\"Cluster\", \"Search Logs\", data=new_b, \n",
    "            palette=\"Blues_d\").set_title(\n",
    "            \"Search Log Distribution per Cluster - Federal Norms\")\n",
    "plt.savefig(\"cluster_federal_modes.png\")"
   ]
  },
  {
   "cell_type": "markdown",
   "metadata": {},
   "source": [
    "**KMeans**"
   ]
  },
  {
   "cell_type": "markdown",
   "metadata": {},
   "source": [
    "By applying one-hot encoding, the data will be converted to numeric data and then it will be run through k-means."
   ]
  },
  {
   "cell_type": "markdown",
   "metadata": {},
   "source": [
    "**Judiciary**<br>\n",
    "Optimal number of clusters (Elbow Method)<br>\n",
    "KMeans"
   ]
  },
  {
   "cell_type": "code",
   "execution_count": 31,
   "metadata": {},
   "outputs": [
    {
     "data": {
      "text/plain": [
       "<Figure size 640x480 with 1 Axes>"
      ]
     },
     "metadata": {},
     "output_type": "display_data"
    }
   ],
   "source": [
    "from sklearn.cluster import KMeans\n",
    "\n",
    "Sum_of_squared_distances = []\n",
    "K = range(1,15)\n",
    "for k in K:\n",
    "    km = KMeans(n_clusters=k)\n",
    "    km = km.fit(j)\n",
    "    #j contains the Judiciary One Hot \n",
    "    Sum_of_squared_distances.append(km.inertia_)"
   ]
  },
  {
   "cell_type": "code",
   "execution_count": 32,
   "metadata": {},
   "outputs": [
    {
     "data": {
      "image/png": "[encoded data removed]",
      "text/plain": [
       "<Figure size 432x288 with 1 Axes>"
      ]
     },
     "metadata": {
      "needs_background": "light"
     },
     "output_type": "display_data"
    }
   ],
   "source": [
    "plt.plot(K, Sum_of_squared_distances, 'bx-')\n",
    "plt.xlabel('k')\n",
    "plt.ylabel('Sum_of_squared_distances')\n",
    "plt.title('Elbow Method For Optimal k')\n",
    "plt.show()"
   ]
  },
  {
   "cell_type": "code",
   "execution_count": 35,
   "metadata": {},
   "outputs": [],
   "source": [
    "import sklearn\n",
    "km = sklearn.cluster.KMeans(n_clusters=3)\n",
    "km.fit(j)\n",
    "# Get cluster assignment labels\n",
    "labels = km.labels_\n",
    "# Format results as a DataFrame\n",
    "j_results = pd.DataFrame([j.index,labels]).T"
   ]
  },
  {
   "cell_type": "markdown",
   "metadata": {},
   "source": [
    "**Federal Norms**<br>\n",
    "Optimal number of clusters (Elbow Method)<br>\n",
    "KMeans"
   ]
  },
  {
   "cell_type": "code",
   "execution_count": 36,
   "metadata": {},
   "outputs": [],
   "source": [
    "Sum_of_squared_distances = []\n",
    "K = range(1,15)\n",
    "for k in K:\n",
    "    km = KMeans(n_clusters=k)\n",
    "    km = km.fit(b)\n",
    "    Sum_of_squared_distances.append(km.inertia_)"
   ]
  },
  {
   "cell_type": "code",
   "execution_count": 37,
   "metadata": {},
   "outputs": [
    {
     "data": {
      "image/png": "[encoded data removed]",
      "text/plain": [
       "<Figure size 432x288 with 1 Axes>"
      ]
     },
     "metadata": {
      "needs_background": "light"
     },
     "output_type": "display_data"
    }
   ],
   "source": [
    "plt.plot(K, Sum_of_squared_distances, 'bx-')\n",
    "plt.xlabel('k')\n",
    "plt.ylabel('Sum_of_squared_distances')\n",
    "plt.title('Elbow Method For Optimal k')\n",
    "plt.show()"
   ]
  },
  {
   "cell_type": "code",
   "execution_count": 41,
   "metadata": {},
   "outputs": [],
   "source": [
    "# Convert DataFrame to matrix\n",
    "# Using sklearn\n",
    "km = sklearn.cluster.KMeans(n_clusters=3)\n",
    "km.fit(b)\n",
    "# Get cluster assignment labels\n",
    "labels = km.labels_\n",
    "# Format results as a DataFrame\n",
    "b_results = pd.DataFrame([b.index,labels]).T"
   ]
  },
  {
   "cell_type": "markdown",
   "metadata": {},
   "source": [
    "**State Norms**<br>\n",
    "Optimal number of clusters (Elbow Method)<br>\n",
    "KMeans"
   ]
  },
  {
   "cell_type": "code",
   "execution_count": 39,
   "metadata": {},
   "outputs": [],
   "source": [
    "Sum_of_squared_distances = []\n",
    "K = range(1,15)\n",
    "for k in K:\n",
    "    km = KMeans(n_clusters=k)\n",
    "    km = km.fit(l)\n",
    "    Sum_of_squared_distances.append(km.inertia_)"
   ]
  },
  {
   "cell_type": "code",
   "execution_count": 40,
   "metadata": {},
   "outputs": [
    {
     "data": {
      "image/png": "[encoded data removed]",
      "text/plain": [
       "<Figure size 432x288 with 1 Axes>"
      ]
     },
     "metadata": {
      "needs_background": "light"
     },
     "output_type": "display_data"
    }
   ],
   "source": [
    "plt.plot(K, Sum_of_squared_distances, 'bx-')\n",
    "plt.xlabel('k')\n",
    "plt.ylabel('Sum_of_squared_distances')\n",
    "plt.title('Elbow Method For Optimal k')\n",
    "plt.show()"
   ]
  },
  {
   "cell_type": "code",
   "execution_count": 42,
   "metadata": {},
   "outputs": [],
   "source": [
    "# Convert DataFrame to matrix\n",
    "# Using sklearn\n",
    "km = sklearn.cluster.KMeans(n_clusters=3)\n",
    "km.fit(l)\n",
    "# Get cluster assignment labels\n",
    "labels = km.labels_\n",
    "# Format results as a DataFrame\n",
    "l_results = pd.DataFrame([l.index,labels]).T"
   ]
  },
  {
   "cell_type": "markdown",
   "metadata": {},
   "source": [
    "**Distribution**"
   ]
  },
  {
   "cell_type": "code",
   "execution_count": 1,
   "metadata": {},
   "outputs": [
    {
     "ename": "NameError",
     "evalue": "name 'j_results' is not defined",
     "output_type": "error",
     "traceback": [
      "\u001b[1;31m---------------------------------------------------------------------------\u001b[0m",
      "\u001b[1;31mNameError\u001b[0m                                 Traceback (most recent call last)",
      "\u001b[1;32m<ipython-input-1-592571ad4256>\u001b[0m in \u001b[0;36m<module>\u001b[1;34m()\u001b[0m\n\u001b[0;32m      1\u001b[0m \u001b[1;31m#Judiciary\u001b[0m\u001b[1;33m\u001b[0m\u001b[1;33m\u001b[0m\u001b[0m\n\u001b[1;32m----> 2\u001b[1;33m \u001b[0mj_results\u001b[0m\u001b[1;33m.\u001b[0m\u001b[0mcolumns\u001b[0m \u001b[1;33m=\u001b[0m \u001b[1;33m[\u001b[0m\u001b[1;34m'Index'\u001b[0m\u001b[1;33m,\u001b[0m \u001b[1;34m'Cluster'\u001b[0m\u001b[1;33m]\u001b[0m\u001b[1;33m\u001b[0m\u001b[0m\n\u001b[0m\u001b[0;32m      3\u001b[0m \u001b[0mj_df\u001b[0m \u001b[1;33m=\u001b[0m \u001b[0mpd\u001b[0m\u001b[1;33m.\u001b[0m\u001b[0mDataFrame\u001b[0m\u001b[1;33m(\u001b[0m\u001b[1;33m)\u001b[0m\u001b[1;33m\u001b[0m\u001b[0m\n\u001b[0;32m      4\u001b[0m \u001b[0mj_df\u001b[0m\u001b[1;33m[\u001b[0m\u001b[1;34m'Search Logs'\u001b[0m\u001b[1;33m]\u001b[0m \u001b[1;33m=\u001b[0m \u001b[0mj_results\u001b[0m\u001b[1;33m.\u001b[0m\u001b[0mgroupby\u001b[0m\u001b[1;33m(\u001b[0m\u001b[0mj_results\u001b[0m\u001b[1;33m[\u001b[0m\u001b[1;34m'Cluster'\u001b[0m\u001b[1;33m]\u001b[0m\u001b[1;33m)\u001b[0m\u001b[1;33m.\u001b[0m\u001b[0msize\u001b[0m\u001b[1;33m(\u001b[0m\u001b[1;33m)\u001b[0m\u001b[1;33m\u001b[0m\u001b[0m\n\u001b[0;32m      5\u001b[0m \u001b[0mj_df\u001b[0m\u001b[1;33m[\u001b[0m\u001b[1;34m'Cluster'\u001b[0m\u001b[1;33m]\u001b[0m \u001b[1;33m=\u001b[0m \u001b[0mj_results\u001b[0m\u001b[1;33m.\u001b[0m\u001b[0mgroupby\u001b[0m\u001b[1;33m(\u001b[0m\u001b[0mj_results\u001b[0m\u001b[1;33m[\u001b[0m\u001b[1;34m'Cluster'\u001b[0m\u001b[1;33m]\u001b[0m\u001b[1;33m)\u001b[0m\u001b[1;33m.\u001b[0m\u001b[0msize\u001b[0m\u001b[1;33m(\u001b[0m\u001b[1;33m)\u001b[0m\u001b[1;33m.\u001b[0m\u001b[0mindex\u001b[0m\u001b[1;33m\u001b[0m\u001b[0m\n",
      "\u001b[1;31mNameError\u001b[0m: name 'j_results' is not defined"
     ]
    }
   ],
   "source": [
    "#Judiciary\n",
    "j_results.columns = ['Index', 'Cluster']\n",
    "j_df = pd.DataFrame()\n",
    "j_df['Search Logs'] = j_results.groupby(j_results['Cluster']).size()\n",
    "j_df['Cluster'] = j_results.groupby(j_results['Cluster']).size().index\n",
    "plt.figure(figsize=(10,6))\n",
    "sns.barplot(\"Cluster\", \"Search Logs\", data=j_df, palette=\"Blues_d\").set_title(\n",
    "    \"Search Log Distribution per Cluster - Judicature\")\n",
    "plt.savefig(\"cluster_judicature.png\")"
   ]
  },
  {
   "cell_type": "code",
   "execution_count": 45,
   "metadata": {},
   "outputs": [
    {
     "data": {
      "image/png": "[encoded data removed]",
      "text/plain": [
       "<Figure size 720x432 with 1 Axes>"
      ]
     },
     "metadata": {
      "needs_background": "light"
     },
     "output_type": "display_data"
    }
   ],
   "source": [
    "#Federal\n",
    "b_results.columns = ['Index', 'Cluster']\n",
    "b_df = pd.DataFrame()\n",
    "b_df['Search Logs'] = b_results.groupby(b_results['Cluster']).size()\n",
    "b_df['Cluster'] = b_results.groupby(b_results['Cluster']).size().index\n",
    "plt.figure(figsize=(10,6))\n",
    "sns.barplot(\"Cluster\", \"Search Logs\", data=b_df, palette=\"Blues_d\").set_title(\n",
    "    \"Search Log Distribution per Cluster - Federal Law\")\n",
    "plt.savefig(\"cluster_federal.png\")"
   ]
  },
  {
   "cell_type": "code",
   "execution_count": 46,
   "metadata": {},
   "outputs": [
    {
     "data": {
      "image/png": "[encoded data removed]",
      "text/plain": [
       "<Figure size 720x432 with 1 Axes>"
      ]
     },
     "metadata": {
      "needs_background": "light"
     },
     "output_type": "display_data"
    }
   ],
   "source": [
    "#State\n",
    "l_results.columns = ['Index', 'Cluster']\n",
    "l_df = pd.DataFrame()\n",
    "l_df['Search Logs'] = l_results.groupby(l_results['Cluster']).size()\n",
    "l_df['Cluster'] = l_results.groupby(l_results['Cluster']).size().index\n",
    "plt.figure(figsize=(10,6))\n",
    "sns.barplot(\"Cluster\", \"Search Logs\", data=l_df, palette=\"Blues_d\").set_title(\n",
    "    \"Search Log Distribution per Cluster - State Law\")\n",
    "plt.savefig(\"cluster_state.png\")"
   ]
  },
  {
   "cell_type": "markdown",
   "metadata": {},
   "source": [
    "**Safe the clusters as a new column in the Data Frames**"
   ]
  },
  {
   "cell_type": "code",
   "execution_count": 47,
   "metadata": {},
   "outputs": [],
   "source": [
    "j['Cluster'] = j_results['Cluster']\n",
    "b['Cluster'] = b_results['Cluster']\n",
    "l['Cluster'] = l_results['Cluster']"
   ]
  },
  {
   "cell_type": "markdown",
   "metadata": {},
   "source": [
    "**Distribution in numbers**"
   ]
  },
  {
   "cell_type": "code",
   "execution_count": 4,
   "metadata": {},
   "outputs": [
    {
     "data": {
      "text/plain": [
       "Cluster\n",
       "0    2095635\n",
       "1    2482406\n",
       "2     120798\n",
       "dtype: int64"
      ]
     },
     "execution_count": 4,
     "metadata": {},
     "output_type": "execute_result"
    }
   ],
   "source": [
    "#Judicature\n",
    "j.groupby(j['Cluster']).size()"
   ]
  },
  {
   "cell_type": "code",
   "execution_count": 5,
   "metadata": {},
   "outputs": [
    {
     "data": {
      "text/plain": [
       "Cluster\n",
       "0    297294\n",
       "1    632858\n",
       "2    358317\n",
       "dtype: int64"
      ]
     },
     "execution_count": 5,
     "metadata": {},
     "output_type": "execute_result"
    }
   ],
   "source": [
    "#Federal\n",
    "b.groupby(b['Cluster']).size()"
   ]
  },
  {
   "cell_type": "code",
   "execution_count": 7,
   "metadata": {},
   "outputs": [
    {
     "data": {
      "text/plain": [
       "Cluster\n",
       "0    157515\n",
       "1     37133\n",
       "2     79054\n",
       "dtype: int64"
      ]
     },
     "execution_count": 7,
     "metadata": {},
     "output_type": "execute_result"
    }
   ],
   "source": [
    "#State Law\n",
    "l.groupby(l['Cluster']).size()"
   ]
  },
  {
   "cell_type": "markdown",
   "metadata": {},
   "source": [
    "**Save it as CSV**"
   ]
  },
  {
   "cell_type": "code",
   "execution_count": null,
   "metadata": {},
   "outputs": [],
   "source": [
    "j.to_csv('j_clust.csv')\n",
    "b.to_csv('b_clust.csv')\n",
    "l.to_csv('l_clust.csv')"
   ]
  }
 ],
 "metadata": {
  "kernelspec": {
   "display_name": "Python 3",
   "language": "python",
   "name": "python3"
  },
  "language_info": {
   "codemirror_mode": {
    "name": "ipython",
    "version": 3
   },
   "file_extension": ".py",
   "mimetype": "text/x-python",
   "name": "python",
   "nbconvert_exporter": "python",
   "pygments_lexer": "ipython3",
   "version": "3.7.0"
  }
 },
 "nbformat": 4,
 "nbformat_minor": 2
}
